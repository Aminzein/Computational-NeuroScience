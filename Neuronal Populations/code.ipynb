{
 "cells": [
  {
   "attachments": {},
   "cell_type": "markdown",
   "metadata": {},
   "source": [
    "# Neuronal Populations"
   ]
  },
  {
   "cell_type": "code",
   "execution_count": 1,
   "metadata": {},
   "outputs": [
    {
     "name": "stderr",
     "output_type": "stream",
     "text": [
      "/Users/aminzein/miniconda3/lib/python3.10/site-packages/tqdm/auto.py:22: TqdmWarning: IProgress not found. Please update jupyter and ipywidgets. See https://ipywidgets.readthedocs.io/en/stable/user_install.html\n",
      "  from .autonotebook import tqdm as notebook_tqdm\n"
     ]
    }
   ],
   "source": [
    "import torch\n",
    "import plotly.express as px\n",
    "from pymonntorch import Behavior, SynapseGroup, Network, NeuronGroup, Recorder, EventRecorder"
   ]
  },
  {
   "cell_type": "code",
   "execution_count": null,
   "metadata": {},
   "outputs": [],
   "source": [
    "FULL = \"Full\"\n",
    "FCP = \"Fixed Coupling Probability\"\n",
    "FNPP = \"Fixed Number of Presynaptic Partners\""
   ]
  },
  {
   "attachments": {},
   "cell_type": "markdown",
   "metadata": {},
   "source": [
    "## LIF Model"
   ]
  },
  {
   "cell_type": "code",
   "execution_count": 4,
   "metadata": {},
   "outputs": [],
   "source": [
    "class LIF(Behavior):\n",
    "    \"\"\"\n",
    "    The neural dynamics of LIF is defined by:\n",
    "    tau*dv/dt = v_rest - v + R*I,\n",
    "    if v >= threshold then v = v_reset.\n",
    "    Args:\n",
    "        tau (float): time constant of voltage decay.\n",
    "        v_rest (float): voltage at rest.\n",
    "        v_reset (float): value of voltage reset.\n",
    "        threshold (float): the voltage threshold.\n",
    "        R (float): the resistance of the membrane potential.\n",
    "    \"\"\"\n",
    "\n",
    "\n",
    "    def initialize(self, neurons):\n",
    "        \"\"\"\n",
    "        Set neuron parameters.\n",
    "        Args:\n",
    "            neurons (NeuronGroup): the neural population.\n",
    "        \"\"\"\n",
    "        self.add_tag(\"LIF\")\n",
    "        self.set_parameters_as_variables(neurons)\n",
    "        neurons.v = neurons.vector(mode=\"ones\") * neurons.v_rest\n",
    "        neurons.spikes = neurons.vector(mode=\"zeros\")\n",
    "\n",
    "    def _dv_dt(self, neurons):\n",
    "        \"\"\"\n",
    "        Single step voltage dynamics of simple LIF neurons.\n",
    "        Args:\n",
    "            neurons (NeuronGroup): the neural population.\n",
    "        \"\"\"\n",
    "        delta_v = neurons.v_rest - neurons.v\n",
    "        input_current = neurons.R * neurons.I\n",
    "        return delta_v + input_current\n",
    "\n",
    "    def _fire(self, neurons):\n",
    "        \"\"\"\n",
    "        Single step of LIF dynamics.\n",
    "        Args:\n",
    "            neurons (NeuronGroup): the neural population.\n",
    "        \"\"\"\n",
    "        neurons.spikes = neurons.v >= neurons.threshold\n",
    "        neurons.v[neurons.spikes] = neurons.v_reset\n",
    "\n",
    "    def forward(self, neurons):\n",
    "        \"\"\"\n",
    "        Firing behavior of LIF neurons.\n",
    "        Args:\n",
    "            neurons (NeuronGroup): the neural population.\n",
    "        \"\"\"\n",
    "        self._fire(neurons)\n",
    "        neurons.v += self._dv_dt(neurons) / neurons.tau\n",
    "\n"
   ]
  },
  {
   "attachments": {},
   "cell_type": "markdown",
   "metadata": {},
   "source": [
    "## Synapse"
   ]
  },
  {
   "cell_type": "code",
   "execution_count": 3,
   "metadata": {},
   "outputs": [],
   "source": [
    "class Synapse(Behavior):\n",
    "\n",
    "    def _full_scheme(self, neurons):\n",
    "        for s in neurons.afferent_synapses['All']:\n",
    "            s.W = s.matrix(mode=self.mode)\n",
    "            s.W = self.coef * s.W + self.scale\n",
    "\n",
    "    def _fixed_couple_probability(self, neurons):\n",
    "        for s in neurons.afferent_synapses['All']:\n",
    "            s.W = s.matrix(mode=self.mode, density=self.density)\n",
    "            s.W = self.coef * s.W + self.scale\n",
    "\n",
    "    def _fixed_pre_partners(self, neurons):\n",
    "        for s in neurons.afferent_synapses['All']:\n",
    "            s.W = s.matrix(mode=self.mode)\n",
    "            num_post_neurons, num_pre_neurons = s.W.shape[0], s.W.shape[1] \n",
    "            s.W = self.coef * s.W + self.scale\n",
    "            neurons_to_select = num_pre_neurons - self.density\n",
    "            for neuron_id in range(num_post_neurons):\n",
    "                mask = torch.randint(0, num_pre_neurons-1, size=(neurons_to_select,))\n",
    "                s.W[neuron_id, mask] = 0.0\n",
    "\n",
    "\n",
    "    \n",
    "    def _set_synapse_weights(self, neurons):\n",
    "        \"\"\"\n",
    "        Set synapse weights.\n",
    "        Args:\n",
    "            neurons (NeuronGroup): the neural population.\n",
    "        \"\"\"\n",
    "        if self.scheme == FULL:\n",
    "            self._full_scheme(neurons)\n",
    "        elif self.scheme == FCP:\n",
    "            self._fixed_couple_probability(neurons)\n",
    "        elif self.scheme == FNPP:\n",
    "            self._fixed_pre_partners(neurons)\n",
    "        else:\n",
    "            raise Exception(\"Invalide scheme!\")\n",
    "                      \n",
    "\n",
    "    def initialize(self, neurons):\n",
    "        \"\"\"\n",
    "        Set synapse parameters.\n",
    "        Args:\n",
    "            neurons (NeuronGroup): the neural population.\n",
    "        \"\"\"\n",
    "        self.add_tag('Synapse')\n",
    "        self.scheme = self.parameter('scheme', FULL)\n",
    "        self.mode = self.parameter('mode', \"uniform\")\n",
    "        self.coef = self.parameter('coef', 1.)\n",
    "        self.scale = self.parameter('scale', 0.0) \n",
    "        self.density = self.parameter('density', None)\n",
    "        self._set_synapse_weights(neurons)\n",
    "        \n",
    "    \n",
    "    \n",
    "    \n",
    "    def _get_presynaptic_inputs(self, synapse):\n",
    "        \"\"\"\n",
    "        Calculate presynaptic inputs of population.\n",
    "        Args:\n",
    "            synapse (SynapseGroup): the connections between src and dst neurons.\n",
    "        \"\"\"\n",
    "        spikes = synapse.src.spikes.float()\n",
    "        return torch.matmul(synapse.W, spikes)\n",
    "    \n",
    "\n",
    "    def forward(self, neurons):\n",
    "        \"\"\"\n",
    "        Implementation of both Excitatory and Inhibitory synaptic connections.\n",
    "        Args:\n",
    "            neurons (NeuronGroup): the post synaptic neural population.\n",
    "        \"\"\"\n",
    "        for s in neurons.afferent_synapses['GLUTAMATE']: \n",
    "            neurons.I += self._get_presynaptic_inputs(s)\n",
    "            \n",
    "\n",
    "        for s in neurons.afferent_synapses['GABA']:\n",
    "            neurons.I -= self._get_presynaptic_inputs(s)\n"
   ]
  },
  {
   "attachments": {},
   "cell_type": "markdown",
   "metadata": {},
   "source": [
    "## Input"
   ]
  },
  {
   "cell_type": "code",
   "execution_count": null,
   "metadata": {},
   "outputs": [],
   "source": [
    "class Input(Behavior):\n",
    "    @staticmethod\n",
    "    def _reset_inputs(neurons):\n",
    "        neurons.I = neurons.vector(mode=\"zeros\")\n",
    "\n",
    "    def initialize(self, neurons):\n",
    "        self.add_tag('Input')\n",
    "        self.input = self.parameter('I', None)\n",
    "        self._reset_inputs(neurons)\n",
    "\n",
    "\n",
    "    def forward(self, neurons):\n",
    "        self._reset_inputs(neurons)\n",
    "        neurons.I += self.input[neurons.iteration-1]"
   ]
  }
 ],
 "metadata": {
  "kernelspec": {
   "display_name": "base",
   "language": "python",
   "name": "python3"
  },
  "language_info": {
   "codemirror_mode": {
    "name": "ipython",
    "version": 3
   },
   "file_extension": ".py",
   "mimetype": "text/x-python",
   "name": "python",
   "nbconvert_exporter": "python",
   "pygments_lexer": "ipython3",
   "version": "3.10.12"
  },
  "orig_nbformat": 4,
  "vscode": {
   "interpreter": {
    "hash": "cedc47555d242208aef148e498cec24d13885735a811571bb49077bb2c433071"
   }
  }
 },
 "nbformat": 4,
 "nbformat_minor": 2
}
