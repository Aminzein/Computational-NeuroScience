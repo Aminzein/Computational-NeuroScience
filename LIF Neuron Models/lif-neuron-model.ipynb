{
 "cells": [
  {
   "cell_type": "code",
   "execution_count": null,
   "metadata": {
    "_cell_guid": "b1076dfc-b9ad-4769-8c92-a6c4dae69d19",
    "_uuid": "8f2839f25d086af736a60e9eeb907d3b93b6e0e5",
    "execution": {
     "iopub.execute_input": "2022-04-15T17:39:51.684933Z",
     "iopub.status.busy": "2022-04-15T17:39:51.684373Z",
     "iopub.status.idle": "2022-04-15T17:39:51.689638Z",
     "shell.execute_reply": "2022-04-15T17:39:51.688987Z",
     "shell.execute_reply.started": "2022-04-15T17:39:51.684895Z"
    }
   },
   "outputs": [],
   "source": [
    "# This Python 3 environment comes with many helpful analytics libraries installed\n",
    "# It is defined by the kaggle/python Docker image: https://github.com/kaggle/docker-python\n",
    "# For example, here's several helpful packages to load\n",
    "\n",
    "import numpy as np # linear algebra\n",
    "import pandas as pd # data processing, CSV file I/O (e.g. pd.read_csv)\n",
    "\n",
    "# Input data files are available in the read-only \"../input/\" directory\n",
    "# For example, running this (by clicking run or pressing Shift+Enter) will list all files under the input directory\n",
    "\n",
    "import os\n",
    "for dirname, _, filenames in os.walk('/kaggle/input'):\n",
    "    for filename in filenames:\n",
    "        print(os.path.join(dirname, filename))\n",
    "\n",
    "# You can write up to 20GB to the current directory (/kaggle/working/) that gets preserved as output when you create a version using \"Save & Run All\" \n",
    "# You can also write temporary files to /kaggle/temp/, but they won't be saved outside of the current session"
   ]
  },
  {
   "cell_type": "markdown",
   "metadata": {},
   "source": [
    "# Import Necessary Libraries"
   ]
  },
  {
   "cell_type": "code",
   "execution_count": 9,
   "metadata": {
    "tags": []
   },
   "outputs": [],
   "source": [
    "import matplotlib.pyplot as plt \n",
    "import math"
   ]
  },
  {
   "cell_type": "markdown",
   "metadata": {},
   "source": [
    "## Setup"
   ]
  },
  {
   "cell_type": "code",
   "execution_count": 10,
   "metadata": {},
   "outputs": [],
   "source": [
    "plt.style.use('seaborn')"
   ]
  },
  {
   "cell_type": "markdown",
   "metadata": {},
   "source": [
    "# Plotting Functions"
   ]
  },
  {
   "cell_type": "code",
   "execution_count": 11,
   "metadata": {},
   "outputs": [],
   "source": [
    "def plot_V(axis , v , x ,  spike_times):\n",
    "    axis.set_xlabel('iteration')\n",
    "    axis.set_ylabel('V')\n",
    "    axis.axhline(min(v) , color=\"green\" , linestyle=\"--\" , label=\"min voltage\")\n",
    "    axis.axhline(max(v) , color=\"orange\" , linestyle=\"--\" , label=\"max voltage\") \n",
    "    for sp_time in spike_times:\n",
    "        axis.axvline(sp_time , color=\"red\" , linestyle=\"--\")\n",
    "    axis.legend()\n",
    "    axis.plot(x , v)\n",
    "    \n",
    "def plot_input_current(axis , I , x):\n",
    "    axis.set_xlabel('iteration')\n",
    "    axis.set_ylabel('I')\n",
    "    axis.plot(x , I)\n",
    "    \n",
    "def plot_neuron_Info(v , I , fig_size=(10,10) , spt=[]):\n",
    "    x = list(range(len(v)))\n",
    "    fig , axis = plt.subplots( 2 , figsize = fig_size)\n",
    "    plot_V(axis[0] , v , x , spt)\n",
    "    plot_input_current(axis[1],I , x)\n",
    "    plt.show()"
   ]
  },
  {
   "cell_type": "markdown",
   "metadata": {},
   "source": [
    "## Leaky Integrate & Fire Model\n",
    "#### formulate\n",
    "$\\tau.\\frac{du}{dt} = -(u - u_{rest}) + R.I(t)$, $\\Delta u = u - u_{rest}$ ,$I_t = I(t)$"
   ]
  },
  {
   "cell_type": "markdown",
   "metadata": {},
   "source": [
    "#### Threshhold\n",
    "$ u(t) = \\theta \\implies \\text{Fire + Reset } (u = u_{rest}) $"
   ]
  },
  {
   "cell_type": "code",
   "execution_count": 12,
   "metadata": {
    "tags": []
   },
   "outputs": [],
   "source": [
    "class LIF:\n",
    "\n",
    "    def __init__(self , parameters):\n",
    "        self.tau = parameters['tau']\n",
    "        self.R = parameters['R']\n",
    "        self.v_reset = parameters['v_reset']\n",
    "        self.v_rest = parameters['v_rest']\n",
    "        self.threshold = parameters['threshold']\n",
    "        self.dt = parameters['dt']\n",
    "        self.v = self.v_rest\n",
    "\n",
    "        \n",
    "    def getdv(self , I):\n",
    "        return (-(self.v - self.v_rest) + self.R * I) \\\n",
    "                *self.dt / self.tau\n",
    "\n",
    "    \n",
    "    def get_minimal_I(self):\n",
    "        return (self.threshold - self.v_rest) / self.R\n",
    "    \n",
    "        \n",
    "    def new_iteration(self, I , iteration):\n",
    "        spike = 0\n",
    "        self.v += self.getdv(I)\n",
    "        if self.v >= self.threshold:\n",
    "            self.v = self.v_reset\n",
    "            spike = 1\n",
    "        return spike\n",
    "            \n",
    "            \n",
    "    \n",
    "    def simulate(self , I_t , T):\n",
    "        self.voltage = []\n",
    "        self.spike_times = []\n",
    "        for iteration in range(T):\n",
    "            spike_flag = self.new_iteration(I_t[iteration] , iteration)\n",
    "            if spike_flag:\n",
    "                self.spike_times.append(iteration)\n",
    "            self.voltage.append(self.v)\n",
    "        \n",
    "        return self.voltage , self.spike_times\n",
    "            \n",
    "\n"
   ]
  },
  {
   "cell_type": "markdown",
   "metadata": {},
   "source": [
    "# Simulate LIF Model"
   ]
  },
  {
   "cell_type": "code",
   "execution_count": 13,
   "metadata": {
    "tags": []
   },
   "outputs": [],
   "source": [
    "def get_step_input_currents(I_values , I_period):\n",
    "    I = []\n",
    "    for value , time in zip(I_values , I_period):\n",
    "        temp = [value for _ in range(time)]\n",
    "        I += temp\n",
    "    return I"
   ]
  },
  {
   "cell_type": "markdown",
   "metadata": {},
   "source": [
    "## Set input and model parameters"
   ]
  },
  {
   "cell_type": "code",
   "execution_count": 14,
   "metadata": {
    "tags": []
   },
   "outputs": [],
   "source": [
    "I_values = [0 , 10 , 0]\n",
    "I_periods = [5 , 30 , 10]\n",
    "inputI = get_step_input_currents(I_values , I_periods)\n",
    "config = {\n",
    "    \"v_reset\" : -70,\n",
    "    \"v_rest\": -70,\n",
    "    \"tau\" : 10 ,\n",
    "    \"R\" : 2 ,\n",
    "    \"threshold\" : -50,\n",
    "    \"dt\" : 1\n",
    "}"
   ]
  },
  {
   "cell_type": "code",
   "execution_count": 15,
   "metadata": {
    "tags": []
   },
   "outputs": [],
   "source": [
    "neuron = LIF(config)\n",
    "v , s = neuron.simulate(inputI , sum(I_periods))"
   ]
  },
  {
   "cell_type": "code",
   "execution_count": 16,
   "metadata": {
    "tags": []
   },
   "outputs": [
    {
     "data": {
      "image/png": "[encoded data removed]",
      "text/plain": [
       "<Figure size 720x720 with 2 Axes>"
      ]
     },
     "metadata": {},
     "output_type": "display_data"
    }
   ],
   "source": [
    "plot_neuron_Info(v , inputI , spt=s)"
   ]
  },
  {
   "cell_type": "markdown",
   "metadata": {},
   "source": [
    "## Exponential LIF Model\n",
    "#### formulate\n",
    "$\\tau.\\frac{du}{dt} = -(u - u_{rest}) + R.I(t) + \\Delta_{T}exp(\\frac{u - \\theta_{rh}}{\\Delta_{T}})$\n",
    "\n",
    "First part describe the leak of a passive membrane same as LIF model.\n",
    "\n",
    "$\\Delta_{T}$ is the sharpness parameter.\n",
    "\n",
    "$\\theta_{rh}$ is the firing threshold."
   ]
  },
  {
   "cell_type": "code",
   "execution_count": 17,
   "metadata": {},
   "outputs": [],
   "source": [
    "class ELIF(LIF):\n",
    "\n",
    "    def __init__(self , parameters):\n",
    "        super().__init__(parameters)\n",
    "        self.deltaT = parameters['deltaT']\n",
    "\n",
    "        \n",
    "\n",
    "    def getdv(self , I):\n",
    "        return ((-(self.v - self.v_rest) + self.R * I) + self.deltaT * math.exp((self.v - self.threshold)/self.deltaT)) * \\\n",
    "        (self.dt / self.tau)\n",
    "            \n"
   ]
  },
  {
   "cell_type": "markdown",
   "metadata": {},
   "source": [
    "## Addaptive Exponential LIF Model\n",
    "#### formulate\n",
    "$\\tau.\\frac{du}{dt} = -(u - u_{rest}) + R.I(t) + \\Delta_{T}exp(\\frac{u - \\theta_{rh}}{\\Delta_{T}}) - Rw$\n",
    "\n",
    "$\\tau.\\frac{dw}{dt} = a(u - u_{rest}) - w + b \\tau_w \\sum\\limits_{t^f}\\sigma(t - t^f)$\n",
    "\n",
    "- At each threshold crossing, the adaptation variable w is increased by an amount b\n",
    "- Adaptation is characterized by two parameters:\n",
    "    - the parameter a is the source of subthreshold adaptation, because it couples adaptation to the voltage\n",
    "    - spike-triggered adaptation is controlled by a combination of a and b."
   ]
  },
  {
   "cell_type": "code",
   "execution_count": 18,
   "metadata": {},
   "outputs": [],
   "source": [
    "class AELIF(LIF):\n",
    "    \n",
    "    def __init__(self , parameters):\n",
    "        super().__init__(parameters)\n",
    "        self.deltaT = parameters['deltaT']\n",
    "        self.tau_m = parameters['tau_m']\n",
    "        self.tau_w = parameters['tau_w']\n",
    "        self.a = parameters['a']\n",
    "        self.b = parameters['b']\n",
    "        self.w = parameters['w']\n",
    "\n",
    "    \n",
    "    def getdv(self , I):\n",
    "        return ((-(self.v - self.v_rest) + self.R * (I - self.w)) \\\n",
    "        + self.deltaT * math.exp((self.v - self.threshold)/self.deltaT)) * self.dt / self.tau_m\n",
    "    \n",
    "    \n",
    "    def getdw(self , t):\n",
    "        return self.a * (self.v - self.v_rest) - self.w + self.b * self.tau_w * self.spike_times.count(t)\n",
    "    \n",
    "    \n",
    "    def new_iteration(self, I , iteration):\n",
    "        self.w += self.getdw(iteration)\n",
    "        spike = super().new_iteration(I , iteration)\n",
    "        return spike\n",
    "    "
   ]
  },
  {
   "cell_type": "markdown",
   "metadata": {},
   "source": [
    "## F-I Curve"
   ]
  },
  {
   "cell_type": "code",
   "execution_count": 20,
   "metadata": {
    "execution": {
     "iopub.execute_input": "2022-04-15T17:40:23.788501Z",
     "iopub.status.busy": "2022-04-15T17:40:23.787742Z",
     "iopub.status.idle": "2022-04-15T17:40:23.794932Z",
     "shell.execute_reply": "2022-04-15T17:40:23.794097Z",
     "shell.execute_reply.started": "2022-04-15T17:40:23.788464Z"
    }
   },
   "outputs": [],
   "source": [
    "def createAndRunModel(model_name , config , duration , plot = False):\n",
    "    if model_name == \"LIF\":\n",
    "        behaviourObj = LIF(config)\n",
    "    elif model_name == \"ELIF\":\n",
    "        behaviourObj = ELIF(config)\n",
    "    elif model_name == \"AELIF\":\n",
    "        behaviourObj = AELIF(config)\n",
    "    else:\n",
    "        print(\"Invalid model name\")\n",
    "        return\n",
    "    v , s = behaviourObj.simulate(config['I_t'] , duration)\n",
    "    if plot:\n",
    "        plot_neuron_Info(v , config['I_t'] , spt=s)\n",
    "    return v, s"
   ]
  },
  {
   "cell_type": "code",
   "execution_count": 23,
   "metadata": {
    "execution": {
     "iopub.execute_input": "2022-04-15T17:40:23.796614Z",
     "iopub.status.busy": "2022-04-15T17:40:23.796395Z",
     "iopub.status.idle": "2022-04-15T17:40:23.810442Z",
     "shell.execute_reply": "2022-04-15T17:40:23.809495Z",
     "shell.execute_reply.started": "2022-04-15T17:40:23.796587Z"
    }
   },
   "outputs": [],
   "source": [
    "def getFICurveData(model_name , config , minI , maxI , duration):\n",
    "    I_values = []\n",
    "    f = []\n",
    "    for current_I in range(minI , maxI+1):\n",
    "        I_values.append(current_I)\n",
    "        inputI = get_step_input_currents([current_I] , [duration])\n",
    "        config['I_t'] = inputI\n",
    "        voltage , spikes = createAndRunModel(model_name , config , duration)\n",
    "        if not spikes:\n",
    "            f.append(0)\n",
    "        else:    \n",
    "            f.append(1/(spikes[1]-spikes[0]))\n",
    "    return I_values , f\n",
    "\n",
    "\n",
    "def plotFICurve(model_name , config , minI , maxI , duration):\n",
    "    I , f = getFICurveData(model_name , config , minI , maxI , duration)\n",
    "    plt.plot(I , f)\n",
    "    plt.xlabel('I')\n",
    "    plt.ylabel('f')\n",
    "    plt.title('frequency-current relation')\n",
    "    plt.show()\n",
    "        "
   ]
  },
  {
   "cell_type": "code",
   "execution_count": 24,
   "metadata": {
    "execution": {
     "iopub.execute_input": "2022-04-15T17:40:23.812877Z",
     "iopub.status.busy": "2022-04-15T17:40:23.812629Z",
     "iopub.status.idle": "2022-04-15T17:40:24.138111Z",
     "shell.execute_reply": "2022-04-15T17:40:24.137233Z",
     "shell.execute_reply.started": "2022-04-15T17:40:23.812845Z"
    }
   },
   "outputs": [
    {
     "data": {
      "image/png": "[encoded data removed]",
      "text/plain": [
       "<Figure size 576x396 with 1 Axes>"
      ]
     },
     "metadata": {},
     "output_type": "display_data"
    }
   ],
   "source": [
    "plotFICurve(\"LIF\" , config , 1 , 40 , 200)"
   ]
  },
  {
   "cell_type": "code",
   "execution_count": null,
   "metadata": {
    "execution": {
     "iopub.execute_input": "2022-04-15T17:40:24.166494Z",
     "iopub.status.busy": "2022-04-15T17:40:24.166147Z",
     "iopub.status.idle": "2022-04-15T17:40:24.181081Z",
     "shell.execute_reply": "2022-04-15T17:40:24.180248Z",
     "shell.execute_reply.started": "2022-04-15T17:40:24.166451Z"
    }
   },
   "outputs": [],
   "source": [
    "def generateNormalI(mean , std , size):\n",
    "    return np.random.normal(mean , std , size)"
   ]
  },
  {
   "cell_type": "code",
   "execution_count": null,
   "metadata": {
    "execution": {
     "iopub.execute_input": "2022-04-15T17:40:24.183906Z",
     "iopub.status.busy": "2022-04-15T17:40:24.183269Z",
     "iopub.status.idle": "2022-04-15T17:40:24.582293Z",
     "shell.execute_reply": "2022-04-15T17:40:24.581514Z",
     "shell.execute_reply.started": "2022-04-15T17:40:24.183854Z"
    }
   },
   "outputs": [],
   "source": [
    "params = {\n",
    "        \"v_reset\" : -65,\n",
    "        \"v_rest\": -70,\n",
    "        \"tau\" : 10 ,\n",
    "        \"R\" : 5 ,\n",
    "        \"I_t\": generateNormalI(8 , 0 , 100),\n",
    "        \"threshold\" : -40,\n",
    "        \"dt\" : 1\n",
    "    }\n",
    "createAndRunModel(\"LIF\" , params , 100 , plot=True)"
   ]
  },
  {
   "cell_type": "code",
   "execution_count": null,
   "metadata": {
    "execution": {
     "iopub.execute_input": "2022-04-15T17:40:24.584222Z",
     "iopub.status.busy": "2022-04-15T17:40:24.583513Z",
     "iopub.status.idle": "2022-04-15T17:40:24.588755Z",
     "shell.execute_reply": "2022-04-15T17:40:24.587972Z",
     "shell.execute_reply.started": "2022-04-15T17:40:24.584189Z"
    }
   },
   "outputs": [],
   "source": [
    "def analyseStdOfI(model_name , params  ,stds , mean , duration):\n",
    "    for std in stds:\n",
    "        params[\"I_t\"] = generateNormalI(mean , std , duration)   \n",
    "        createAndRunModel(model_name , params ,duration , plot=True)"
   ]
  },
  {
   "cell_type": "code",
   "execution_count": null,
   "metadata": {
    "execution": {
     "iopub.execute_input": "2022-04-15T17:54:26.810365Z",
     "iopub.status.busy": "2022-04-15T17:54:26.809776Z",
     "iopub.status.idle": "2022-04-15T17:54:26.817815Z",
     "shell.execute_reply": "2022-04-15T17:54:26.817182Z",
     "shell.execute_reply.started": "2022-04-15T17:54:26.810314Z"
    }
   },
   "outputs": [],
   "source": [
    "def cv_ISI(net):\n",
    "    spikes = net['n.spike_times' , 0][-1]\n",
    "    if len(spikes) <=2 :\n",
    "        return\n",
    "    start_spike_times = np.array(spikes[:-1])\n",
    "    end_spike_times = np.array(spikes[1:])\n",
    "    ISI = end_spike_times - start_spike_times\n",
    "    cv = np.std(ISI) / np.mean(ISI)\n",
    "    plt.hist(ISI)\n",
    "    plt.xlabel(\"ISI\")\n",
    "    plt.ylabel(\"count\")\n",
    "    plt.title(\"histogram of ISI\")\n",
    "    print(cv)\n",
    "\n",
    "#params[\"I_t\"] = generateNormalI(8 , 1 , 150)\n",
    "#n = createAndRunModel(\"LIF\" , params , 150)\n",
    "#cv_ISI(n)"
   ]
  },
  {
   "cell_type": "code",
   "execution_count": null,
   "metadata": {
    "execution": {
     "iopub.execute_input": "2022-04-15T17:40:58.712731Z",
     "iopub.status.busy": "2022-04-15T17:40:58.712441Z",
     "iopub.status.idle": "2022-04-15T17:40:58.944101Z",
     "shell.execute_reply": "2022-04-15T17:40:58.943201Z",
     "shell.execute_reply.started": "2022-04-15T17:40:58.712699Z"
    }
   },
   "outputs": [],
   "source": [
    "params[\"I_t\"] = generateNormalI(8 , 5 , 150)\n",
    "n = createAndRunModel(\"LIF\" , params , 150)\n",
    "cv_ISI(n)"
   ]
  },
  {
   "cell_type": "code",
   "execution_count": null,
   "metadata": {
    "execution": {
     "iopub.execute_input": "2022-04-15T17:59:22.706098Z",
     "iopub.status.busy": "2022-04-15T17:59:22.705793Z",
     "iopub.status.idle": "2022-04-15T17:59:25.624107Z",
     "shell.execute_reply": "2022-04-15T17:59:25.623132Z",
     "shell.execute_reply.started": "2022-04-15T17:59:22.706067Z"
    }
   },
   "outputs": [],
   "source": [
    "params = {\n",
    "    \"v_reset\" : -70,\n",
    "    \"v_rest\": -70,\n",
    "    \"tau_m\" : 5 ,\n",
    "    \"tau_w\": 15,\n",
    "    \"R\" : 10 ,\n",
    "    \"threshold\" : -48,\n",
    "    \"dt\" : 0.01 ,\n",
    "    \"deltaT\": 1 ,\n",
    "    \"a\": 1,\n",
    "    \"b\": 0.5,\n",
    "    \"w\": 2 \n",
    "}\n",
    "I_mean = np.arange(2,50,3)\n",
    "I_std = np.arange(0,30,1.5)\n",
    "spk_count = np.zeros((len(I_mean),len(I_std)))\n",
    "cv_isi = np.empty((len(I_mean),len(I_std)))\n",
    "cv_isi[:] = np.NaN\n",
    "duration = 400\n",
    "\n",
    "for i in range(len(I_mean)):\n",
    "    for j in range(len(I_std)):\n",
    "        I_normal = generateNormalI(I_mean[i] , I_std[j] ,duration) \n",
    "        params[\"I_t\"] = I_normal\n",
    "        net = createAndRunModel(\"AELIF\" , params , duration)\n",
    "        spike_times = net['n.spike_times' , 0]\n",
    "        if not spike_times:\n",
    "            continue\n",
    "        spk_count[i,j] = len(spike_times[-1])\n",
    "        if spk_count[i,j]>3:\n",
    "            isi = np.diff(np.array(spike_times[-1]))\n",
    "            cv_isi[i,j] = np.std(isi)/np.mean(isi)"
   ]
  },
  {
   "cell_type": "code",
   "execution_count": null,
   "metadata": {
    "execution": {
     "iopub.execute_input": "2022-04-15T18:00:10.608299Z",
     "iopub.status.busy": "2022-04-15T18:00:10.607809Z",
     "iopub.status.idle": "2022-04-15T18:00:10.886301Z",
     "shell.execute_reply": "2022-04-15T18:00:10.884241Z",
     "shell.execute_reply.started": "2022-04-15T18:00:10.608255Z"
    }
   },
   "outputs": [],
   "source": [
    "plt.figure(figsize=(30,10))\n",
    "plt.subplot(2,2,2)\n",
    "plt.plot(spk_count,cv_isi,'.')\n",
    "plt.xlabel('Spike count')\n",
    "plt.ylabel('Spike time irregularity (CV-ISI)');\n",
    "plt.legend()"
   ]
  },
  {
   "cell_type": "code",
   "execution_count": null,
   "metadata": {
    "execution": {
     "iopub.execute_input": "2022-04-15T17:41:04.566366Z",
     "iopub.status.busy": "2022-04-15T17:41:04.56606Z",
     "iopub.status.idle": "2022-04-15T17:41:04.57152Z",
     "shell.execute_reply": "2022-04-15T17:41:04.570664Z",
     "shell.execute_reply.started": "2022-04-15T17:41:04.566334Z"
    }
   },
   "outputs": [],
   "source": [
    "def iterativeFICurve(model_name , params , param_name,values , minI , maxI , duration):\n",
    "    for value in values:\n",
    "        params[param_name] = value\n",
    "        plotFICurve(model_name , params , minI , maxI , duration)"
   ]
  },
  {
   "cell_type": "code",
   "execution_count": null,
   "metadata": {
    "execution": {
     "iopub.execute_input": "2022-04-15T17:47:54.307239Z",
     "iopub.status.busy": "2022-04-15T17:47:54.306907Z",
     "iopub.status.idle": "2022-04-15T17:47:54.323935Z",
     "shell.execute_reply": "2022-04-15T17:47:54.32305Z",
     "shell.execute_reply.started": "2022-04-15T17:47:54.307206Z"
    }
   },
   "outputs": [],
   "source": [
    "inputI = generateStepI([25] , [400])\n",
    "params = {\n",
    "    \"v_reset\" : -70,\n",
    "    \"v_rest\": -70,\n",
    "    \"tau_m\" : 5 ,\n",
    "    \"tau_w\": 15,\n",
    "    \"R\" : 10 ,\n",
    "    \"threshold\" : -48,\n",
    "    \"dt\" : 0.01 ,\n",
    "    \"deltaT\": 1 ,\n",
    "    \"a\": 1,\n",
    "    \"b\": 0.5,\n",
    "    \"w\": 2 ,\n",
    "    \"I_t\": inputI\n",
    "}\n",
    "createAndRunModel(\"AELIF\" , params , 400)"
   ]
  },
  {
   "cell_type": "code",
   "execution_count": null,
   "metadata": {
    "_kg_hide-input": true,
    "execution": {
     "iopub.execute_input": "2022-04-15T17:48:02.982994Z",
     "iopub.status.busy": "2022-04-15T17:48:02.98269Z",
     "iopub.status.idle": "2022-04-15T17:48:02.988824Z",
     "shell.execute_reply": "2022-04-15T17:48:02.988191Z",
     "shell.execute_reply.started": "2022-04-15T17:48:02.982953Z"
    }
   },
   "outputs": [],
   "source": [
    "tau_values = [5 , 9 , 15 , 21 , 27]\n",
    "inputI = generateStepI([25] , [400])\n",
    "params = {\n",
    "    \"v_reset\" : -70,\n",
    "    \"v_rest\": -70,\n",
    "    \"tau_m\" : 5 ,\n",
    "    \"tau_w\": 15,\n",
    "    \"R\" : 10 ,\n",
    "    \"threshold\" : -48,\n",
    "    \"dt\" : 0.01 ,\n",
    "    \"deltaT\": 1 ,\n",
    "    \"a\": 1,\n",
    "    \"b\": 0.5,\n",
    "    \"w\": 2 ,\n",
    "    \"I_t\": inputI\n",
    "}\n",
    "#iterativeFICurve(\"AELIF\" , params , \"tau_w\" , tau_values , 10 , 50 , 100)\n"
   ]
  },
  {
   "cell_type": "code",
   "execution_count": null,
   "metadata": {
    "execution": {
     "iopub.execute_input": "2022-04-15T17:55:31.531056Z",
     "iopub.status.busy": "2022-04-15T17:55:31.530245Z",
     "iopub.status.idle": "2022-04-15T17:55:31.544958Z",
     "shell.execute_reply": "2022-04-15T17:55:31.54429Z",
     "shell.execute_reply.started": "2022-04-15T17:55:31.531018Z"
    }
   },
   "outputs": [],
   "source": [
    "inputI = generateNormalI(25 , 9 , 400)\n",
    "params[\"I_t\"] = inputI\n",
    "m = createAndRunModel(\"AELIF\" , params , 400)"
   ]
  },
  {
   "cell_type": "code",
   "execution_count": null,
   "metadata": {
    "execution": {
     "iopub.execute_input": "2022-04-15T17:55:33.813221Z",
     "iopub.status.busy": "2022-04-15T17:55:33.812899Z",
     "iopub.status.idle": "2022-04-15T17:55:33.828024Z",
     "shell.execute_reply": "2022-04-15T17:55:33.826955Z",
     "shell.execute_reply.started": "2022-04-15T17:55:33.813183Z"
    }
   },
   "outputs": [],
   "source": [
    "m[\"n.spike_times\" , 0]"
   ]
  },
  {
   "cell_type": "code",
   "execution_count": null,
   "metadata": {
    "execution": {
     "iopub.execute_input": "2022-04-15T17:57:52.425196Z",
     "iopub.status.busy": "2022-04-15T17:57:52.424277Z",
     "iopub.status.idle": "2022-04-15T17:57:54.118136Z",
     "shell.execute_reply": "2022-04-15T17:57:54.117196Z",
     "shell.execute_reply.started": "2022-04-15T17:57:52.425141Z"
    }
   },
   "outputs": [],
   "source": [
    "stds = [1 , 4 , 9 , 15 , 20 , 25 , 31 , 36]\n",
    "#analyseStdOfI(\"AELIF\" , params  ,stds , 25 , 400)\n",
    "for std in stds:\n",
    "    inputI = generateNormalI(45 , std , 500)\n",
    "    params[\"I_t\"] = inputI\n",
    "    n = createAndRunModel(\"AELIF\" , params , 500)\n",
    "    cv_ISI(n)\n",
    "    plt.show()"
   ]
  },
  {
   "cell_type": "code",
   "execution_count": null,
   "metadata": {},
   "outputs": [],
   "source": [
    "inputI = generateStepI([0 , 8 , 0] , [10 , 60 , 18])\n",
    "params = {\n",
    "    \"v_reset\" : -65,\n",
    "    \"v_rest\": -65,\n",
    "    \"tau\" : 8 ,\n",
    "    \"R\" : 5 ,\n",
    "    \"I_t\": inputI ,\n",
    "    \"threshold\" : -10,\n",
    "    \"dt\" : 1 ,\n",
    "    \"deltaT\": 2\n",
    "}\n",
    "createAndRunModel(\"ELIF\" , params , 88 , plot=True)"
   ]
  },
  {
   "cell_type": "code",
   "execution_count": null,
   "metadata": {},
   "outputs": [],
   "source": []
  }
 ],
 "metadata": {
  "kernelspec": {
   "display_name": "Python 3.10.5 64-bit",
   "language": "python",
   "name": "python3"
  },
  "language_info": {
   "codemirror_mode": {
    "name": "ipython",
    "version": 3
   },
   "file_extension": ".py",
   "mimetype": "text/x-python",
   "name": "python",
   "nbconvert_exporter": "python",
   "pygments_lexer": "ipython3",
   "version": "3.10.5"
  },
  "vscode": {
   "interpreter": {
    "hash": "8c3d4d9970fc5c09c50d9318a9c7fbf4d0159e4b28833276f5678ee22bded273"
   }
  }
 },
 "nbformat": 4,
 "nbformat_minor": 4
}
