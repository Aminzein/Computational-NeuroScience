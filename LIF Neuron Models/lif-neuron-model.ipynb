{
 "cells": [
  {
   "attachments": {},
   "cell_type": "markdown",
   "metadata": {},
   "source": [
    "# The Leaky Integrate and Fire(LIF) Neuron Model"
   ]
  },
  {
   "attachments": {},
   "cell_type": "markdown",
   "metadata": {},
   "source": [
    "####  In this tutorial, we will build up a leaky integrate-and-fire (LIF), exponential leaky integrate-and-fire (ELIF), adaptive exponential leaky integrate and fire (AELIF) neuron model and study their dynamics in response to various types of inputs. "
   ]
  },
  {
   "attachments": {},
   "cell_type": "markdown",
   "metadata": {},
   "source": [
    "## Implementation from scratch"
   ]
  },
  {
   "attachments": {},
   "cell_type": "markdown",
   "metadata": {},
   "source": [
    "### Import Necessary Libraries"
   ]
  },
  {
   "cell_type": "code",
   "execution_count": 2,
   "metadata": {
    "tags": []
   },
   "outputs": [],
   "source": [
    "import numpy as np\n",
    "import plotly.express as px\n",
    "import math"
   ]
  },
  {
   "attachments": {},
   "cell_type": "markdown",
   "metadata": {},
   "source": [
    "## Leaky Integrate & Fire Model (LIF)\n",
    "#### formulate\n",
    "$\\tau.\\frac{du}{dt} = -(u - u_{rest}) + R.I(t)$, $\\Delta u = u - u_{rest}$ ,$I_t = I(t)$"
   ]
  },
  {
   "cell_type": "markdown",
   "metadata": {},
   "source": [
    "#### Threshhold\n",
    "$ u(t) = \\theta \\implies \\text{Fire + Reset } (u = u_{rest}) $"
   ]
  },
  {
   "cell_type": "code",
   "execution_count": 9,
   "metadata": {
    "tags": []
   },
   "outputs": [],
   "source": [
    "\"\"\"\n",
    "Implementation of Leaky Integrate and Fire Neuron Model.\n",
    "\"\"\"\n",
    "class LIF:\n",
    "\n",
    "    def __init__(self , parameters:dict):\n",
    "        self.tau = parameters['tau']\n",
    "        self.R = parameters['R']\n",
    "        self.v_reset = parameters['v_reset']\n",
    "        self.v_rest = parameters['v_rest']\n",
    "        self.threshold = parameters['threshold']\n",
    "        self.dt = parameters['dt']\n",
    "        self.v = self.v_rest\n",
    "\n",
    "        \n",
    "    def getdv(self , I):\n",
    "        return (-(self.v - self.v_rest) + self.R * I) \\\n",
    "                *self.dt / self.tau\n",
    "\n",
    "    \n",
    "    def get_minimal_I(self):\n",
    "        return (self.threshold - self.v_rest) / self.R\n",
    "    \n",
    "        \n",
    "    def new_iteration(self, I):\n",
    "        spike = 0\n",
    "        self.v += self.getdv(I)\n",
    "        if self.v >= self.threshold:\n",
    "            self.v = self.v_reset\n",
    "            spike = 1\n",
    "        return spike\n",
    "            \n",
    "            \n",
    "    \n",
    "    def simulate(self , I_t , T):\n",
    "        self.voltage = []\n",
    "        self.spike_times = []\n",
    "        for iteration in range(T):\n",
    "            spike_flag = self.new_iteration(I_t[iteration])\n",
    "            if spike_flag:\n",
    "                self.spike_times.append(iteration)\n",
    "            self.voltage.append(self.v)\n",
    "        return self.voltage , self.spike_times"
   ]
  },
  {
   "attachments": {},
   "cell_type": "markdown",
   "metadata": {},
   "source": [
    "## Plotting Functions"
   ]
  },
  {
   "cell_type": "code",
   "execution_count": 10,
   "metadata": {},
   "outputs": [],
   "source": [
    "def plot_neuron_info(v, I):\n",
    "    x = range(len(v))\n",
    "    v_fig = px.line(x=x, y=v, title=\"Voltage of neuron during the simulation\")\n",
    "    I_fig = px.line(x=x, y=I, title=\"Input given to neuron\")\n",
    "    v_fig.show()\n",
    "    I_fig.show()"
   ]
  },
  {
   "attachments": {},
   "cell_type": "markdown",
   "metadata": {},
   "source": [
    "### Simulate LIF Model"
   ]
  },
  {
   "cell_type": "code",
   "execution_count": 11,
   "metadata": {
    "tags": []
   },
   "outputs": [],
   "source": [
    "def get_step_input_currents(I_values , I_period):\n",
    "    I = []\n",
    "    for value , time in zip(I_values , I_period):\n",
    "        temp = [value for _ in range(time)]\n",
    "        I += temp\n",
    "    return I"
   ]
  },
  {
   "attachments": {},
   "cell_type": "markdown",
   "metadata": {},
   "source": [
    "### Set input and model parameters"
   ]
  },
  {
   "cell_type": "code",
   "execution_count": 12,
   "metadata": {
    "tags": []
   },
   "outputs": [],
   "source": [
    "I_values = [0 , 10 , 0]\n",
    "I_periods = [5 , 30 , 10]\n",
    "inputI = get_step_input_currents(I_values , I_periods)\n",
    "config = {\n",
    "    \"v_reset\" : -70,\n",
    "    \"v_rest\": -70,\n",
    "    \"tau\" : 10 ,\n",
    "    \"R\" : 2 ,\n",
    "    \"threshold\" : -50,\n",
    "    \"dt\" : 1\n",
    "}"
   ]
  },
  {
   "cell_type": "code",
   "execution_count": 13,
   "metadata": {
    "tags": []
   },
   "outputs": [],
   "source": [
    "neuron = LIF(config)\n",
    "v , s = neuron.simulate(inputI , sum(I_periods))"
   ]
  },
  {
   "cell_type": "code",
   "execution_count": 14,
   "metadata": {
    "tags": []
   },
   "outputs": [
    {
     "data": {
      "application/vnd.plotly.v1+json": {
       "config": {
        "plotlyServerURL": "https://plot.ly"
       },
       "data": [
        {
         "hovertemplate": "x=%{x}<br>y=%{y}<extra></extra>",
         "legendgroup": "",
         "line": {
          "color": "#636efa",
          "dash": "solid"
         },
         "marker": {
          "symbol": "circle"
         },
         "mode": "lines",
         "name": "",
         "orientation": "v",
         "showlegend": false,
         "type": "scatter",
         "x": [
          0,
          1,
          2,
          3,
          4,
          5,
          6,
          7,
          8,
          9,
          10,
          11,
          12,
          13,
          14,
          15,
          16,
          17,
          18,
          19,
          20,
          21,
          22,
          23,
          24,
          25,
          26,
          27,
          28,
          29,
          30,
          31,
          32,
          33,
          34,
          35,
          36,
          37,
          38,
          39,
          40,
          41,
          42,
          43,
          44
         ],
         "xaxis": "x",
         "y": [
          -70,
          -70,
          -70,
          -70,
          -70,
          -68,
          -66.2,
          -64.58,
          -63.122,
          -61.8098,
          -60.628820000000005,
          -59.565938,
          -58.6093442,
          -57.74840978,
          -56.973568802,
          -56.276211921800005,
          -55.648590729620004,
          -55.083731656658,
          -54.5753584909922,
          -54.11782264189298,
          -53.70604037770368,
          -53.33543633993331,
          -53.00189270593998,
          -52.70170343534598,
          -52.43153309181139,
          -52.18837978263025,
          -51.969541804367225,
          -51.772587623930505,
          -51.59532886153745,
          -51.435795975383705,
          -51.292216377845335,
          -51.1629947400608,
          -51.046695266054726,
          -50.94202573944926,
          -50.84782316550433,
          -52.7630408489539,
          -54.486736764058506,
          -56.03806308765265,
          -57.43425677888739,
          -58.69083110099865,
          -59.821747990898785,
          -60.83957319180891,
          -61.75561587262802,
          -62.58005428536522,
          -63.3220488568287
         ],
         "yaxis": "y"
        }
       ],
       "layout": {
        "legend": {
         "tracegroupgap": 0
        },
        "template": {
         "data": {
          "bar": [
           {
            "error_x": {
             "color": "#2a3f5f"
            },
            "error_y": {
             "color": "#2a3f5f"
            },
            "marker": {
             "line": {
              "color": "#E5ECF6",
              "width": 0.5
             },
             "pattern": {
              "fillmode": "overlay",
              "size": 10,
              "solidity": 0.2
             }
            },
            "type": "bar"
           }
          ],
          "barpolar": [
           {
            "marker": {
             "line": {
              "color": "#E5ECF6",
              "width": 0.5
             },
             "pattern": {
              "fillmode": "overlay",
              "size": 10,
              "solidity": 0.2
             }
            },
            "type": "barpolar"
           }
          ],
          "carpet": [
           {
            "aaxis": {
             "endlinecolor": "#2a3f5f",
             "gridcolor": "white",
             "linecolor": "white",
             "minorgridcolor": "white",
             "startlinecolor": "#2a3f5f"
            },
            "baxis": {
             "endlinecolor": "#2a3f5f",
             "gridcolor": "white",
             "linecolor": "white",
             "minorgridcolor": "white",
             "startlinecolor": "#2a3f5f"
            },
            "type": "carpet"
           }
          ],
          "choropleth": [
           {
            "colorbar": {
             "outlinewidth": 0,
             "ticks": ""
            },
            "type": "choropleth"
           }
          ],
          "contour": [
           {
            "colorbar": {
             "outlinewidth": 0,
             "ticks": ""
            },
            "colorscale": [
             [
              0,
              "#0d0887"
             ],
             [
              0.1111111111111111,
              "#46039f"
             ],
             [
              0.2222222222222222,
              "#7201a8"
             ],
             [
              0.3333333333333333,
              "#9c179e"
             ],
             [
              0.4444444444444444,
              "#bd3786"
             ],
             [
              0.5555555555555556,
              "#d8576b"
             ],
             [
              0.6666666666666666,
              "#ed7953"
             ],
             [
              0.7777777777777778,
              "#fb9f3a"
             ],
             [
              0.8888888888888888,
              "#fdca26"
             ],
             [
              1,
              "#f0f921"
             ]
            ],
            "type": "contour"
           }
          ],
          "contourcarpet": [
           {
            "colorbar": {
             "outlinewidth": 0,
             "ticks": ""
            },
            "type": "contourcarpet"
           }
          ],
          "heatmap": [
           {
            "colorbar": {
             "outlinewidth": 0,
             "ticks": ""
            },
            "colorscale": [
             [
              0,
              "#0d0887"
             ],
             [
              0.1111111111111111,
              "#46039f"
             ],
             [
              0.2222222222222222,
              "#7201a8"
             ],
             [
              0.3333333333333333,
              "#9c179e"
             ],
             [
              0.4444444444444444,
              "#bd3786"
             ],
             [
              0.5555555555555556,
              "#d8576b"
             ],
             [
              0.6666666666666666,
              "#ed7953"
             ],
             [
              0.7777777777777778,
              "#fb9f3a"
             ],
             [
              0.8888888888888888,
              "#fdca26"
             ],
             [
              1,
              "#f0f921"
             ]
            ],
            "type": "heatmap"
           }
          ],
          "heatmapgl": [
           {
            "colorbar": {
             "outlinewidth": 0,
             "ticks": ""
            },
            "colorscale": [
             [
              0,
              "#0d0887"
             ],
             [
              0.1111111111111111,
              "#46039f"
             ],
             [
              0.2222222222222222,
              "#7201a8"
             ],
             [
              0.3333333333333333,
              "#9c179e"
             ],
             [
              0.4444444444444444,
              "#bd3786"
             ],
             [
              0.5555555555555556,
              "#d8576b"
             ],
             [
              0.6666666666666666,
              "#ed7953"
             ],
             [
              0.7777777777777778,
              "#fb9f3a"
             ],
             [
              0.8888888888888888,
              "#fdca26"
             ],
             [
              1,
              "#f0f921"
             ]
            ],
            "type": "heatmapgl"
           }
          ],
          "histogram": [
           {
            "marker": {
             "pattern": {
              "fillmode": "overlay",
              "size": 10,
              "solidity": 0.2
             }
            },
            "type": "histogram"
           }
          ],
          "histogram2d": [
           {
            "colorbar": {
             "outlinewidth": 0,
             "ticks": ""
            },
            "colorscale": [
             [
              0,
              "#0d0887"
             ],
             [
              0.1111111111111111,
              "#46039f"
             ],
             [
              0.2222222222222222,
              "#7201a8"
             ],
             [
              0.3333333333333333,
              "#9c179e"
             ],
             [
              0.4444444444444444,
              "#bd3786"
             ],
             [
              0.5555555555555556,
              "#d8576b"
             ],
             [
              0.6666666666666666,
              "#ed7953"
             ],
             [
              0.7777777777777778,
              "#fb9f3a"
             ],
             [
              0.8888888888888888,
              "#fdca26"
             ],
             [
              1,
              "#f0f921"
             ]
            ],
            "type": "histogram2d"
           }
          ],
          "histogram2dcontour": [
           {
            "colorbar": {
             "outlinewidth": 0,
             "ticks": ""
            },
            "colorscale": [
             [
              0,
              "#0d0887"
             ],
             [
              0.1111111111111111,
              "#46039f"
             ],
             [
              0.2222222222222222,
              "#7201a8"
             ],
             [
              0.3333333333333333,
              "#9c179e"
             ],
             [
              0.4444444444444444,
              "#bd3786"
             ],
             [
              0.5555555555555556,
              "#d8576b"
             ],
             [
              0.6666666666666666,
              "#ed7953"
             ],
             [
              0.7777777777777778,
              "#fb9f3a"
             ],
             [
              0.8888888888888888,
              "#fdca26"
             ],
             [
              1,
              "#f0f921"
             ]
            ],
            "type": "histogram2dcontour"
           }
          ],
          "mesh3d": [
           {
            "colorbar": {
             "outlinewidth": 0,
             "ticks": ""
            },
            "type": "mesh3d"
           }
          ],
          "parcoords": [
           {
            "line": {
             "colorbar": {
              "outlinewidth": 0,
              "ticks": ""
             }
            },
            "type": "parcoords"
           }
          ],
          "pie": [
           {
            "automargin": true,
            "type": "pie"
           }
          ],
          "scatter": [
           {
            "fillpattern": {
             "fillmode": "overlay",
             "size": 10,
             "solidity": 0.2
            },
            "type": "scatter"
           }
          ],
          "scatter3d": [
           {
            "line": {
             "colorbar": {
              "outlinewidth": 0,
              "ticks": ""
             }
            },
            "marker": {
             "colorbar": {
              "outlinewidth": 0,
              "ticks": ""
             }
            },
            "type": "scatter3d"
           }
          ],
          "scattercarpet": [
           {
            "marker": {
             "colorbar": {
              "outlinewidth": 0,
              "ticks": ""
             }
            },
            "type": "scattercarpet"
           }
          ],
          "scattergeo": [
           {
            "marker": {
             "colorbar": {
              "outlinewidth": 0,
              "ticks": ""
             }
            },
            "type": "scattergeo"
           }
          ],
          "scattergl": [
           {
            "marker": {
             "colorbar": {
              "outlinewidth": 0,
              "ticks": ""
             }
            },
            "type": "scattergl"
           }
          ],
          "scattermapbox": [
           {
            "marker": {
             "colorbar": {
              "outlinewidth": 0,
              "ticks": ""
             }
            },
            "type": "scattermapbox"
           }
          ],
          "scatterpolar": [
           {
            "marker": {
             "colorbar": {
              "outlinewidth": 0,
              "ticks": ""
             }
            },
            "type": "scatterpolar"
           }
          ],
          "scatterpolargl": [
           {
            "marker": {
             "colorbar": {
              "outlinewidth": 0,
              "ticks": ""
             }
            },
            "type": "scatterpolargl"
           }
          ],
          "scatterternary": [
           {
            "marker": {
             "colorbar": {
              "outlinewidth": 0,
              "ticks": ""
             }
            },
            "type": "scatterternary"
           }
          ],
          "surface": [
           {
            "colorbar": {
             "outlinewidth": 0,
             "ticks": ""
            },
            "colorscale": [
             [
              0,
              "#0d0887"
             ],
             [
              0.1111111111111111,
              "#46039f"
             ],
             [
              0.2222222222222222,
              "#7201a8"
             ],
             [
              0.3333333333333333,
              "#9c179e"
             ],
             [
              0.4444444444444444,
              "#bd3786"
             ],
             [
              0.5555555555555556,
              "#d8576b"
             ],
             [
              0.6666666666666666,
              "#ed7953"
             ],
             [
              0.7777777777777778,
              "#fb9f3a"
             ],
             [
              0.8888888888888888,
              "#fdca26"
             ],
             [
              1,
              "#f0f921"
             ]
            ],
            "type": "surface"
           }
          ],
          "table": [
           {
            "cells": {
             "fill": {
              "color": "#EBF0F8"
             },
             "line": {
              "color": "white"
             }
            },
            "header": {
             "fill": {
              "color": "#C8D4E3"
             },
             "line": {
              "color": "white"
             }
            },
            "type": "table"
           }
          ]
         },
         "layout": {
          "annotationdefaults": {
           "arrowcolor": "#2a3f5f",
           "arrowhead": 0,
           "arrowwidth": 1
          },
          "autotypenumbers": "strict",
          "coloraxis": {
           "colorbar": {
            "outlinewidth": 0,
            "ticks": ""
           }
          },
          "colorscale": {
           "diverging": [
            [
             0,
             "#8e0152"
            ],
            [
             0.1,
             "#c51b7d"
            ],
            [
             0.2,
             "#de77ae"
            ],
            [
             0.3,
             "#f1b6da"
            ],
            [
             0.4,
             "#fde0ef"
            ],
            [
             0.5,
             "#f7f7f7"
            ],
            [
             0.6,
             "#e6f5d0"
            ],
            [
             0.7,
             "#b8e186"
            ],
            [
             0.8,
             "#7fbc41"
            ],
            [
             0.9,
             "#4d9221"
            ],
            [
             1,
             "#276419"
            ]
           ],
           "sequential": [
            [
             0,
             "#0d0887"
            ],
            [
             0.1111111111111111,
             "#46039f"
            ],
            [
             0.2222222222222222,
             "#7201a8"
            ],
            [
             0.3333333333333333,
             "#9c179e"
            ],
            [
             0.4444444444444444,
             "#bd3786"
            ],
            [
             0.5555555555555556,
             "#d8576b"
            ],
            [
             0.6666666666666666,
             "#ed7953"
            ],
            [
             0.7777777777777778,
             "#fb9f3a"
            ],
            [
             0.8888888888888888,
             "#fdca26"
            ],
            [
             1,
             "#f0f921"
            ]
           ],
           "sequentialminus": [
            [
             0,
             "#0d0887"
            ],
            [
             0.1111111111111111,
             "#46039f"
            ],
            [
             0.2222222222222222,
             "#7201a8"
            ],
            [
             0.3333333333333333,
             "#9c179e"
            ],
            [
             0.4444444444444444,
             "#bd3786"
            ],
            [
             0.5555555555555556,
             "#d8576b"
            ],
            [
             0.6666666666666666,
             "#ed7953"
            ],
            [
             0.7777777777777778,
             "#fb9f3a"
            ],
            [
             0.8888888888888888,
             "#fdca26"
            ],
            [
             1,
             "#f0f921"
            ]
           ]
          },
          "colorway": [
           "#636efa",
           "#EF553B",
           "#00cc96",
           "#ab63fa",
           "#FFA15A",
           "#19d3f3",
           "#FF6692",
           "#B6E880",
           "#FF97FF",
           "#FECB52"
          ],
          "font": {
           "color": "#2a3f5f"
          },
          "geo": {
           "bgcolor": "white",
           "lakecolor": "white",
           "landcolor": "#E5ECF6",
           "showlakes": true,
           "showland": true,
           "subunitcolor": "white"
          },
          "hoverlabel": {
           "align": "left"
          },
          "hovermode": "closest",
          "mapbox": {
           "style": "light"
          },
          "paper_bgcolor": "white",
          "plot_bgcolor": "#E5ECF6",
          "polar": {
           "angularaxis": {
            "gridcolor": "white",
            "linecolor": "white",
            "ticks": ""
           },
           "bgcolor": "#E5ECF6",
           "radialaxis": {
            "gridcolor": "white",
            "linecolor": "white",
            "ticks": ""
           }
          },
          "scene": {
           "xaxis": {
            "backgroundcolor": "#E5ECF6",
            "gridcolor": "white",
            "gridwidth": 2,
            "linecolor": "white",
            "showbackground": true,
            "ticks": "",
            "zerolinecolor": "white"
           },
           "yaxis": {
            "backgroundcolor": "#E5ECF6",
            "gridcolor": "white",
            "gridwidth": 2,
            "linecolor": "white",
            "showbackground": true,
            "ticks": "",
            "zerolinecolor": "white"
           },
           "zaxis": {
            "backgroundcolor": "#E5ECF6",
            "gridcolor": "white",
            "gridwidth": 2,
            "linecolor": "white",
            "showbackground": true,
            "ticks": "",
            "zerolinecolor": "white"
           }
          },
          "shapedefaults": {
           "line": {
            "color": "#2a3f5f"
           }
          },
          "ternary": {
           "aaxis": {
            "gridcolor": "white",
            "linecolor": "white",
            "ticks": ""
           },
           "baxis": {
            "gridcolor": "white",
            "linecolor": "white",
            "ticks": ""
           },
           "bgcolor": "#E5ECF6",
           "caxis": {
            "gridcolor": "white",
            "linecolor": "white",
            "ticks": ""
           }
          },
          "title": {
           "x": 0.05
          },
          "xaxis": {
           "automargin": true,
           "gridcolor": "white",
           "linecolor": "white",
           "ticks": "",
           "title": {
            "standoff": 15
           },
           "zerolinecolor": "white",
           "zerolinewidth": 2
          },
          "yaxis": {
           "automargin": true,
           "gridcolor": "white",
           "linecolor": "white",
           "ticks": "",
           "title": {
            "standoff": 15
           },
           "zerolinecolor": "white",
           "zerolinewidth": 2
          }
         }
        },
        "title": {
         "text": "Voltage of neuron during the simulation"
        },
        "xaxis": {
         "anchor": "y",
         "domain": [
          0,
          1
         ],
         "title": {
          "text": "x"
         }
        },
        "yaxis": {
         "anchor": "x",
         "domain": [
          0,
          1
         ],
         "title": {
          "text": "y"
         }
        }
       }
      }
     },
     "metadata": {},
     "output_type": "display_data"
    },
    {
     "data": {
      "application/vnd.plotly.v1+json": {
       "config": {
        "plotlyServerURL": "https://plot.ly"
       },
       "data": [
        {
         "hovertemplate": "x=%{x}<br>y=%{y}<extra></extra>",
         "legendgroup": "",
         "line": {
          "color": "#636efa",
          "dash": "solid"
         },
         "marker": {
          "symbol": "circle"
         },
         "mode": "lines",
         "name": "",
         "orientation": "v",
         "showlegend": false,
         "type": "scatter",
         "x": [
          0,
          1,
          2,
          3,
          4,
          5,
          6,
          7,
          8,
          9,
          10,
          11,
          12,
          13,
          14,
          15,
          16,
          17,
          18,
          19,
          20,
          21,
          22,
          23,
          24,
          25,
          26,
          27,
          28,
          29,
          30,
          31,
          32,
          33,
          34,
          35,
          36,
          37,
          38,
          39,
          40,
          41,
          42,
          43,
          44
         ],
         "xaxis": "x",
         "y": [
          0,
          0,
          0,
          0,
          0,
          10,
          10,
          10,
          10,
          10,
          10,
          10,
          10,
          10,
          10,
          10,
          10,
          10,
          10,
          10,
          10,
          10,
          10,
          10,
          10,
          10,
          10,
          10,
          10,
          10,
          10,
          10,
          10,
          10,
          10,
          0,
          0,
          0,
          0,
          0,
          0,
          0,
          0,
          0,
          0
         ],
         "yaxis": "y"
        }
       ],
       "layout": {
        "legend": {
         "tracegroupgap": 0
        },
        "template": {
         "data": {
          "bar": [
           {
            "error_x": {
             "color": "#2a3f5f"
            },
            "error_y": {
             "color": "#2a3f5f"
            },
            "marker": {
             "line": {
              "color": "#E5ECF6",
              "width": 0.5
             },
             "pattern": {
              "fillmode": "overlay",
              "size": 10,
              "solidity": 0.2
             }
            },
            "type": "bar"
           }
          ],
          "barpolar": [
           {
            "marker": {
             "line": {
              "color": "#E5ECF6",
              "width": 0.5
             },
             "pattern": {
              "fillmode": "overlay",
              "size": 10,
              "solidity": 0.2
             }
            },
            "type": "barpolar"
           }
          ],
          "carpet": [
           {
            "aaxis": {
             "endlinecolor": "#2a3f5f",
             "gridcolor": "white",
             "linecolor": "white",
             "minorgridcolor": "white",
             "startlinecolor": "#2a3f5f"
            },
            "baxis": {
             "endlinecolor": "#2a3f5f",
             "gridcolor": "white",
             "linecolor": "white",
             "minorgridcolor": "white",
             "startlinecolor": "#2a3f5f"
            },
            "type": "carpet"
           }
          ],
          "choropleth": [
           {
            "colorbar": {
             "outlinewidth": 0,
             "ticks": ""
            },
            "type": "choropleth"
           }
          ],
          "contour": [
           {
            "colorbar": {
             "outlinewidth": 0,
             "ticks": ""
            },
            "colorscale": [
             [
              0,
              "#0d0887"
             ],
             [
              0.1111111111111111,
              "#46039f"
             ],
             [
              0.2222222222222222,
              "#7201a8"
             ],
             [
              0.3333333333333333,
              "#9c179e"
             ],
             [
              0.4444444444444444,
              "#bd3786"
             ],
             [
              0.5555555555555556,
              "#d8576b"
             ],
             [
              0.6666666666666666,
              "#ed7953"
             ],
             [
              0.7777777777777778,
              "#fb9f3a"
             ],
             [
              0.8888888888888888,
              "#fdca26"
             ],
             [
              1,
              "#f0f921"
             ]
            ],
            "type": "contour"
           }
          ],
          "contourcarpet": [
           {
            "colorbar": {
             "outlinewidth": 0,
             "ticks": ""
            },
            "type": "contourcarpet"
           }
          ],
          "heatmap": [
           {
            "colorbar": {
             "outlinewidth": 0,
             "ticks": ""
            },
            "colorscale": [
             [
              0,
              "#0d0887"
             ],
             [
              0.1111111111111111,
              "#46039f"
             ],
             [
              0.2222222222222222,
              "#7201a8"
             ],
             [
              0.3333333333333333,
              "#9c179e"
             ],
             [
              0.4444444444444444,
              "#bd3786"
             ],
             [
              0.5555555555555556,
              "#d8576b"
             ],
             [
              0.6666666666666666,
              "#ed7953"
             ],
             [
              0.7777777777777778,
              "#fb9f3a"
             ],
             [
              0.8888888888888888,
              "#fdca26"
             ],
             [
              1,
              "#f0f921"
             ]
            ],
            "type": "heatmap"
           }
          ],
          "heatmapgl": [
           {
            "colorbar": {
             "outlinewidth": 0,
             "ticks": ""
            },
            "colorscale": [
             [
              0,
              "#0d0887"
             ],
             [
              0.1111111111111111,
              "#46039f"
             ],
             [
              0.2222222222222222,
              "#7201a8"
             ],
             [
              0.3333333333333333,
              "#9c179e"
             ],
             [
              0.4444444444444444,
              "#bd3786"
             ],
             [
              0.5555555555555556,
              "#d8576b"
             ],
             [
              0.6666666666666666,
              "#ed7953"
             ],
             [
              0.7777777777777778,
              "#fb9f3a"
             ],
             [
              0.8888888888888888,
              "#fdca26"
             ],
             [
              1,
              "#f0f921"
             ]
            ],
            "type": "heatmapgl"
           }
          ],
          "histogram": [
           {
            "marker": {
             "pattern": {
              "fillmode": "overlay",
              "size": 10,
              "solidity": 0.2
             }
            },
            "type": "histogram"
           }
          ],
          "histogram2d": [
           {
            "colorbar": {
             "outlinewidth": 0,
             "ticks": ""
            },
            "colorscale": [
             [
              0,
              "#0d0887"
             ],
             [
              0.1111111111111111,
              "#46039f"
             ],
             [
              0.2222222222222222,
              "#7201a8"
             ],
             [
              0.3333333333333333,
              "#9c179e"
             ],
             [
              0.4444444444444444,
              "#bd3786"
             ],
             [
              0.5555555555555556,
              "#d8576b"
             ],
             [
              0.6666666666666666,
              "#ed7953"
             ],
             [
              0.7777777777777778,
              "#fb9f3a"
             ],
             [
              0.8888888888888888,
              "#fdca26"
             ],
             [
              1,
              "#f0f921"
             ]
            ],
            "type": "histogram2d"
           }
          ],
          "histogram2dcontour": [
           {
            "colorbar": {
             "outlinewidth": 0,
             "ticks": ""
            },
            "colorscale": [
             [
              0,
              "#0d0887"
             ],
             [
              0.1111111111111111,
              "#46039f"
             ],
             [
              0.2222222222222222,
              "#7201a8"
             ],
             [
              0.3333333333333333,
              "#9c179e"
             ],
             [
              0.4444444444444444,
              "#bd3786"
             ],
             [
              0.5555555555555556,
              "#d8576b"
             ],
             [
              0.6666666666666666,
              "#ed7953"
             ],
             [
              0.7777777777777778,
              "#fb9f3a"
             ],
             [
              0.8888888888888888,
              "#fdca26"
             ],
             [
              1,
              "#f0f921"
             ]
            ],
            "type": "histogram2dcontour"
           }
          ],
          "mesh3d": [
           {
            "colorbar": {
             "outlinewidth": 0,
             "ticks": ""
            },
            "type": "mesh3d"
           }
          ],
          "parcoords": [
           {
            "line": {
             "colorbar": {
              "outlinewidth": 0,
              "ticks": ""
             }
            },
            "type": "parcoords"
           }
          ],
          "pie": [
           {
            "automargin": true,
            "type": "pie"
           }
          ],
          "scatter": [
           {
            "fillpattern": {
             "fillmode": "overlay",
             "size": 10,
             "solidity": 0.2
            },
            "type": "scatter"
           }
          ],
          "scatter3d": [
           {
            "line": {
             "colorbar": {
              "outlinewidth": 0,
              "ticks": ""
             }
            },
            "marker": {
             "colorbar": {
              "outlinewidth": 0,
              "ticks": ""
             }
            },
            "type": "scatter3d"
           }
          ],
          "scattercarpet": [
           {
            "marker": {
             "colorbar": {
              "outlinewidth": 0,
              "ticks": ""
             }
            },
            "type": "scattercarpet"
           }
          ],
          "scattergeo": [
           {
            "marker": {
             "colorbar": {
              "outlinewidth": 0,
              "ticks": ""
             }
            },
            "type": "scattergeo"
           }
          ],
          "scattergl": [
           {
            "marker": {
             "colorbar": {
              "outlinewidth": 0,
              "ticks": ""
             }
            },
            "type": "scattergl"
           }
          ],
          "scattermapbox": [
           {
            "marker": {
             "colorbar": {
              "outlinewidth": 0,
              "ticks": ""
             }
            },
            "type": "scattermapbox"
           }
          ],
          "scatterpolar": [
           {
            "marker": {
             "colorbar": {
              "outlinewidth": 0,
              "ticks": ""
             }
            },
            "type": "scatterpolar"
           }
          ],
          "scatterpolargl": [
           {
            "marker": {
             "colorbar": {
              "outlinewidth": 0,
              "ticks": ""
             }
            },
            "type": "scatterpolargl"
           }
          ],
          "scatterternary": [
           {
            "marker": {
             "colorbar": {
              "outlinewidth": 0,
              "ticks": ""
             }
            },
            "type": "scatterternary"
           }
          ],
          "surface": [
           {
            "colorbar": {
             "outlinewidth": 0,
             "ticks": ""
            },
            "colorscale": [
             [
              0,
              "#0d0887"
             ],
             [
              0.1111111111111111,
              "#46039f"
             ],
             [
              0.2222222222222222,
              "#7201a8"
             ],
             [
              0.3333333333333333,
              "#9c179e"
             ],
             [
              0.4444444444444444,
              "#bd3786"
             ],
             [
              0.5555555555555556,
              "#d8576b"
             ],
             [
              0.6666666666666666,
              "#ed7953"
             ],
             [
              0.7777777777777778,
              "#fb9f3a"
             ],
             [
              0.8888888888888888,
              "#fdca26"
             ],
             [
              1,
              "#f0f921"
             ]
            ],
            "type": "surface"
           }
          ],
          "table": [
           {
            "cells": {
             "fill": {
              "color": "#EBF0F8"
             },
             "line": {
              "color": "white"
             }
            },
            "header": {
             "fill": {
              "color": "#C8D4E3"
             },
             "line": {
              "color": "white"
             }
            },
            "type": "table"
           }
          ]
         },
         "layout": {
          "annotationdefaults": {
           "arrowcolor": "#2a3f5f",
           "arrowhead": 0,
           "arrowwidth": 1
          },
          "autotypenumbers": "strict",
          "coloraxis": {
           "colorbar": {
            "outlinewidth": 0,
            "ticks": ""
           }
          },
          "colorscale": {
           "diverging": [
            [
             0,
             "#8e0152"
            ],
            [
             0.1,
             "#c51b7d"
            ],
            [
             0.2,
             "#de77ae"
            ],
            [
             0.3,
             "#f1b6da"
            ],
            [
             0.4,
             "#fde0ef"
            ],
            [
             0.5,
             "#f7f7f7"
            ],
            [
             0.6,
             "#e6f5d0"
            ],
            [
             0.7,
             "#b8e186"
            ],
            [
             0.8,
             "#7fbc41"
            ],
            [
             0.9,
             "#4d9221"
            ],
            [
             1,
             "#276419"
            ]
           ],
           "sequential": [
            [
             0,
             "#0d0887"
            ],
            [
             0.1111111111111111,
             "#46039f"
            ],
            [
             0.2222222222222222,
             "#7201a8"
            ],
            [
             0.3333333333333333,
             "#9c179e"
            ],
            [
             0.4444444444444444,
             "#bd3786"
            ],
            [
             0.5555555555555556,
             "#d8576b"
            ],
            [
             0.6666666666666666,
             "#ed7953"
            ],
            [
             0.7777777777777778,
             "#fb9f3a"
            ],
            [
             0.8888888888888888,
             "#fdca26"
            ],
            [
             1,
             "#f0f921"
            ]
           ],
           "sequentialminus": [
            [
             0,
             "#0d0887"
            ],
            [
             0.1111111111111111,
             "#46039f"
            ],
            [
             0.2222222222222222,
             "#7201a8"
            ],
            [
             0.3333333333333333,
             "#9c179e"
            ],
            [
             0.4444444444444444,
             "#bd3786"
            ],
            [
             0.5555555555555556,
             "#d8576b"
            ],
            [
             0.6666666666666666,
             "#ed7953"
            ],
            [
             0.7777777777777778,
             "#fb9f3a"
            ],
            [
             0.8888888888888888,
             "#fdca26"
            ],
            [
             1,
             "#f0f921"
            ]
           ]
          },
          "colorway": [
           "#636efa",
           "#EF553B",
           "#00cc96",
           "#ab63fa",
           "#FFA15A",
           "#19d3f3",
           "#FF6692",
           "#B6E880",
           "#FF97FF",
           "#FECB52"
          ],
          "font": {
           "color": "#2a3f5f"
          },
          "geo": {
           "bgcolor": "white",
           "lakecolor": "white",
           "landcolor": "#E5ECF6",
           "showlakes": true,
           "showland": true,
           "subunitcolor": "white"
          },
          "hoverlabel": {
           "align": "left"
          },
          "hovermode": "closest",
          "mapbox": {
           "style": "light"
          },
          "paper_bgcolor": "white",
          "plot_bgcolor": "#E5ECF6",
          "polar": {
           "angularaxis": {
            "gridcolor": "white",
            "linecolor": "white",
            "ticks": ""
           },
           "bgcolor": "#E5ECF6",
           "radialaxis": {
            "gridcolor": "white",
            "linecolor": "white",
            "ticks": ""
           }
          },
          "scene": {
           "xaxis": {
            "backgroundcolor": "#E5ECF6",
            "gridcolor": "white",
            "gridwidth": 2,
            "linecolor": "white",
            "showbackground": true,
            "ticks": "",
            "zerolinecolor": "white"
           },
           "yaxis": {
            "backgroundcolor": "#E5ECF6",
            "gridcolor": "white",
            "gridwidth": 2,
            "linecolor": "white",
            "showbackground": true,
            "ticks": "",
            "zerolinecolor": "white"
           },
           "zaxis": {
            "backgroundcolor": "#E5ECF6",
            "gridcolor": "white",
            "gridwidth": 2,
            "linecolor": "white",
            "showbackground": true,
            "ticks": "",
            "zerolinecolor": "white"
           }
          },
          "shapedefaults": {
           "line": {
            "color": "#2a3f5f"
           }
          },
          "ternary": {
           "aaxis": {
            "gridcolor": "white",
            "linecolor": "white",
            "ticks": ""
           },
           "baxis": {
            "gridcolor": "white",
            "linecolor": "white",
            "ticks": ""
           },
           "bgcolor": "#E5ECF6",
           "caxis": {
            "gridcolor": "white",
            "linecolor": "white",
            "ticks": ""
           }
          },
          "title": {
           "x": 0.05
          },
          "xaxis": {
           "automargin": true,
           "gridcolor": "white",
           "linecolor": "white",
           "ticks": "",
           "title": {
            "standoff": 15
           },
           "zerolinecolor": "white",
           "zerolinewidth": 2
          },
          "yaxis": {
           "automargin": true,
           "gridcolor": "white",
           "linecolor": "white",
           "ticks": "",
           "title": {
            "standoff": 15
           },
           "zerolinecolor": "white",
           "zerolinewidth": 2
          }
         }
        },
        "title": {
         "text": "Input given to neuron"
        },
        "xaxis": {
         "anchor": "y",
         "domain": [
          0,
          1
         ],
         "title": {
          "text": "x"
         }
        },
        "yaxis": {
         "anchor": "x",
         "domain": [
          0,
          1
         ],
         "title": {
          "text": "y"
         }
        }
       }
      }
     },
     "metadata": {},
     "output_type": "display_data"
    }
   ],
   "source": [
    "plot_neuron_info(v , inputI)"
   ]
  },
  {
   "cell_type": "markdown",
   "metadata": {},
   "source": [
    "## Exponential LIF Model\n",
    "#### formulate\n",
    "$\\tau.\\frac{du}{dt} = -(u - u_{rest}) + R.I(t) + \\Delta_{T}exp(\\frac{u - \\theta_{rh}}{\\Delta_{T}})$\n",
    "\n",
    "First part describe the leak of a passive membrane same as LIF model.\n",
    "\n",
    "$\\Delta_{T}$ is the sharpness parameter.\n",
    "\n",
    "$\\theta_{rh}$ is the firing threshold."
   ]
  },
  {
   "cell_type": "code",
   "execution_count": 15,
   "metadata": {},
   "outputs": [],
   "source": [
    "class ELIF(LIF):\n",
    "\n",
    "    def __init__(self , parameters:dict):\n",
    "        super().__init__(parameters)\n",
    "        self.deltaT = parameters['deltaT']\n",
    "\n",
    "    def getdv(self , I):\n",
    "        return ((-(self.v - self.v_rest) + self.R * I) + self.deltaT * math.exp((self.v - self.threshold)/self.deltaT)) * \\\n",
    "        (self.dt / self.tau)\n",
    "            \n"
   ]
  },
  {
   "cell_type": "markdown",
   "metadata": {},
   "source": [
    "## Addaptive Exponential LIF Model\n",
    "#### formulate\n",
    "$\\tau.\\frac{du}{dt} = -(u - u_{rest}) + R.I(t) + \\Delta_{T}exp(\\frac{u - \\theta_{rh}}{\\Delta_{T}}) - Rw$\n",
    "\n",
    "$\\tau.\\frac{dw}{dt} = a(u - u_{rest}) - w + b \\tau_w \\sum\\limits_{t^f}\\sigma(t - t^f)$\n",
    "\n",
    "- At each threshold crossing, the adaptation variable w is increased by an amount b\n",
    "- Adaptation is characterized by two parameters:\n",
    "    - the parameter a is the source of subthreshold adaptation, because it couples adaptation to the voltage\n",
    "    - spike-triggered adaptation is controlled by a combination of a and b."
   ]
  },
  {
   "cell_type": "code",
   "execution_count": 16,
   "metadata": {},
   "outputs": [],
   "source": [
    "class AELIF(LIF):\n",
    "    \n",
    "    def __init__(self , parameters):\n",
    "        super().__init__(parameters)\n",
    "        self.deltaT = parameters['deltaT']\n",
    "        self.tau_m = parameters['tau_m']\n",
    "        self.tau_w = parameters['tau_w']\n",
    "        self.a = parameters['a']\n",
    "        self.b = parameters['b']\n",
    "        self.w = parameters['w']\n",
    "\n",
    "    \n",
    "    def getdv(self , I):\n",
    "        return ((-(self.v - self.v_rest) + self.R * (I - self.w)) \\\n",
    "        + self.deltaT * math.exp((self.v - self.threshold)/self.deltaT)) * self.dt / self.tau_m\n",
    "    \n",
    "    \n",
    "    def getdw(self , t):\n",
    "        return self.a * (self.v - self.v_rest) - self.w + self.b * self.tau_w * self.spike_times.count(t)\n",
    "    \n",
    "    \n",
    "    def new_iteration(self, I , iteration):\n",
    "        self.w += self.getdw(iteration)\n",
    "        spike = super().new_iteration(I)\n",
    "        return spike\n",
    "    "
   ]
  },
  {
   "attachments": {},
   "cell_type": "markdown",
   "metadata": {},
   "source": [
    "### Put Them Together!"
   ]
  },
  {
   "cell_type": "code",
   "execution_count": 17,
   "metadata": {
    "execution": {
     "iopub.execute_input": "2022-04-15T17:40:23.788501Z",
     "iopub.status.busy": "2022-04-15T17:40:23.787742Z",
     "iopub.status.idle": "2022-04-15T17:40:23.794932Z",
     "shell.execute_reply": "2022-04-15T17:40:23.794097Z",
     "shell.execute_reply.started": "2022-04-15T17:40:23.788464Z"
    }
   },
   "outputs": [],
   "source": [
    "def createAndRunModel(model_name , config , duration , plot = False):\n",
    "    if model_name == \"LIF\":\n",
    "        behaviourObj = LIF(config)\n",
    "    elif model_name == \"ELIF\":\n",
    "        behaviourObj = ELIF(config)\n",
    "    elif model_name == \"AELIF\":\n",
    "        behaviourObj = AELIF(config)\n",
    "    else:\n",
    "        raise Exception(\"Invalid model name\")\n",
    "    v , s = behaviourObj.simulate(config['I_t'] , duration)\n",
    "    if plot:\n",
    "        plot_neuron_info(v , config['I_t'])\n",
    "    return v, s"
   ]
  },
  {
   "attachments": {},
   "cell_type": "markdown",
   "metadata": {},
   "source": [
    "## F-I Curve"
   ]
  },
  {
   "cell_type": "code",
   "execution_count": 13,
   "metadata": {
    "execution": {
     "iopub.execute_input": "2022-04-15T17:40:23.796614Z",
     "iopub.status.busy": "2022-04-15T17:40:23.796395Z",
     "iopub.status.idle": "2022-04-15T17:40:23.810442Z",
     "shell.execute_reply": "2022-04-15T17:40:23.809495Z",
     "shell.execute_reply.started": "2022-04-15T17:40:23.796587Z"
    }
   },
   "outputs": [],
   "source": [
    "def getFICurveData(model_name , config , minI , maxI , duration):\n",
    "    I_values = []\n",
    "    f = []\n",
    "    for current_I in range(minI , maxI+1):\n",
    "        I_values.append(current_I)\n",
    "        inputI = get_step_input_currents([current_I] , [duration])\n",
    "        config['I_t'] = inputI\n",
    "        voltage , spikes = createAndRunModel(model_name , config , duration)\n",
    "        if not spikes:\n",
    "            f.append(0)\n",
    "        else:    \n",
    "            f.append(1/(spikes[1]-spikes[0]))\n",
    "    return I_values , f\n",
    "\n",
    "\n",
    "def plotFICurve(model_name , config , minI , maxI , duration):\n",
    "    I , f = getFICurveData(model_name , config , minI , maxI , duration)\n",
    "    plt.plot(I , f)\n",
    "    plt.xlabel('I')\n",
    "    plt.ylabel('f')\n",
    "    plt.title('frequency-current relation')\n",
    "    plt.show()\n",
    "        "
   ]
  },
  {
   "cell_type": "code",
   "execution_count": 14,
   "metadata": {
    "execution": {
     "iopub.execute_input": "2022-04-15T17:40:23.812877Z",
     "iopub.status.busy": "2022-04-15T17:40:23.812629Z",
     "iopub.status.idle": "2022-04-15T17:40:24.138111Z",
     "shell.execute_reply": "2022-04-15T17:40:24.137233Z",
     "shell.execute_reply.started": "2022-04-15T17:40:23.812845Z"
    }
   },
   "outputs": [
    {
     "data": {
      "image/png": "[encoded data removed]",
      "text/plain": [
       "<Figure size 800x550 with 1 Axes>"
      ]
     },
     "metadata": {},
     "output_type": "display_data"
    }
   ],
   "source": [
    "plotFICurve(\"LIF\" , config , 1 , 40 , 200)"
   ]
  },
  {
   "cell_type": "markdown",
   "metadata": {},
   "source": [
    "## Gaussian white noise"
   ]
  },
  {
   "cell_type": "code",
   "execution_count": 15,
   "metadata": {
    "execution": {
     "iopub.execute_input": "2022-04-15T17:40:24.166494Z",
     "iopub.status.busy": "2022-04-15T17:40:24.166147Z",
     "iopub.status.idle": "2022-04-15T17:40:24.181081Z",
     "shell.execute_reply": "2022-04-15T17:40:24.180248Z",
     "shell.execute_reply.started": "2022-04-15T17:40:24.166451Z"
    }
   },
   "outputs": [],
   "source": [
    "def generateNormalI(mean , std , size):\n",
    "    return np.random.normal(mean , std , size)"
   ]
  },
  {
   "cell_type": "code",
   "execution_count": 21,
   "metadata": {
    "execution": {
     "iopub.execute_input": "2022-04-15T17:40:24.183906Z",
     "iopub.status.busy": "2022-04-15T17:40:24.183269Z",
     "iopub.status.idle": "2022-04-15T17:40:24.582293Z",
     "shell.execute_reply": "2022-04-15T17:40:24.581514Z",
     "shell.execute_reply.started": "2022-04-15T17:40:24.183854Z"
    }
   },
   "outputs": [
    {
     "data": {
      "image/png": "[encoded data removed]",
      "text/plain": [
       "<Figure size 1000x1000 with 2 Axes>"
      ]
     },
     "metadata": {},
     "output_type": "display_data"
    },
    {
     "data": {
      "text/plain": [
       "([-65.8546622236837,\n",
       "  -62.02348416715411,\n",
       "  -58.23449166440502,\n",
       "  -55.806208615532604,\n",
       "  -52.634083469753215,\n",
       "  -50.29279551909536,\n",
       "  -48.958906572701515,\n",
       "  -46.96508368549679,\n",
       "  -45.54346483116072,\n",
       "  -44.95823429983747,\n",
       "  -43.25745789701397,\n",
       "  -42.701968001326705,\n",
       "  -42.01420366640982,\n",
       "  -41.783276685985705,\n",
       "  -40.75959358238296,\n",
       "  -65,\n",
       "  -61.77007200146158,\n",
       "  -59.069042964637994,\n",
       "  -56.767122681587665,\n",
       "  -53.90678454112479,\n",
       "  -52.20983438377915,\n",
       "  -49.44564688366561,\n",
       "  -46.995971075003844,\n",
       "  -44.761729925705446,\n",
       "  -43.04633294358039,\n",
       "  -41.776166944463355,\n",
       "  -40.41592804602171,\n",
       "  -65,\n",
       "  -61.16407311729906,\n",
       "  -57.92440479816071,\n",
       "  -54.57102716008892,\n",
       "  -51.359504111221966,\n",
       "  -49.480443878570235,\n",
       "  -47.66404231726912,\n",
       "  -45.617229044729,\n",
       "  -43.53473442576682,\n",
       "  -41.06497215647969,\n",
       "  -40.459504181502716,\n",
       "  -65,\n",
       "  -61.389430605925554,\n",
       "  -58.99208724823439,\n",
       "  -56.277407459461315,\n",
       "  -54.17098179048176,\n",
       "  -51.071760749225916,\n",
       "  -49.211558639161126,\n",
       "  -47.33908515740965,\n",
       "  -45.26535992082047,\n",
       "  -43.107727788976376,\n",
       "  -42.00458471485695,\n",
       "  -40.82625867852714,\n",
       "  -41.078937574356445,\n",
       "  -40.28650001762188,\n",
       "  -65,\n",
       "  -61.25093625767209,\n",
       "  -58.08700835262047,\n",
       "  -54.68392412330922,\n",
       "  -52.14514362234433,\n",
       "  -50.41549509967946,\n",
       "  -48.35079540624634,\n",
       "  -45.86266399808928,\n",
       "  -44.22388873805914,\n",
       "  -42.53311647189963,\n",
       "  -40.83793368830125,\n",
       "  -40.243225152218486,\n",
       "  -65,\n",
       "  -61.48539055387183,\n",
       "  -58.23017805610343,\n",
       "  -55.95806331145132,\n",
       "  -52.47351712171097,\n",
       "  -50.33557315060825,\n",
       "  -48.24173985730101,\n",
       "  -47.03275128446678,\n",
       "  -45.293877722128684,\n",
       "  -43.218309602016596,\n",
       "  -42.765352317476065,\n",
       "  -40.8373532874144,\n",
       "  -65,\n",
       "  -60.95278833118041,\n",
       "  -57.76558677164297,\n",
       "  -55.477823745956016,\n",
       "  -53.3279115588778,\n",
       "  -50.564745473876336,\n",
       "  -48.618922050644564,\n",
       "  -46.648679210926915,\n",
       "  -44.73330811811774,\n",
       "  -42.76778984355218,\n",
       "  -41.58776021999775,\n",
       "  -65,\n",
       "  -62.10425354083051,\n",
       "  -58.99911088973409,\n",
       "  -56.24412131096566,\n",
       "  -53.76418611054555,\n",
       "  -51.13080209512857,\n",
       "  -48.69315317101693,\n",
       "  -46.387257548793315,\n",
       "  -44.676114026460986,\n",
       "  -43.23336247729806,\n",
       "  -43.19457120449032,\n",
       "  -42.36426429977115,\n",
       "  -40.79237613066746],\n",
       " [15, 27, 38, 52, 64, 76, 87])"
      ]
     },
     "execution_count": 21,
     "metadata": {},
     "output_type": "execute_result"
    }
   ],
   "source": [
    "params = {\n",
    "        \"v_reset\" : -65,\n",
    "        \"v_rest\": -70,\n",
    "        \"tau\" : 10 ,\n",
    "        \"R\" : 5 ,\n",
    "        \"I_t\": generateNormalI(8 , 1 , 100),\n",
    "        \"threshold\" : -40,\n",
    "        \"dt\" : 1\n",
    "    }\n",
    "createAndRunModel(\"LIF\" , params , 100 , plot=True)"
   ]
  },
  {
   "cell_type": "markdown",
   "metadata": {},
   "source": [
    "## coefficient of variation (CV) of the interspike interval (ISI)"
   ]
  },
  {
   "cell_type": "code",
   "execution_count": 36,
   "metadata": {
    "execution": {
     "iopub.execute_input": "2022-04-15T17:54:26.810365Z",
     "iopub.status.busy": "2022-04-15T17:54:26.809776Z",
     "iopub.status.idle": "2022-04-15T17:54:26.817815Z",
     "shell.execute_reply": "2022-04-15T17:54:26.817182Z",
     "shell.execute_reply.started": "2022-04-15T17:54:26.810314Z"
    }
   },
   "outputs": [],
   "source": [
    "def get_ISI(model_name , params , duration):\n",
    "    v , spike_times = createAndRunModel(model_name , params , duration)\n",
    "    return np.diff(spike_times)\n",
    "\n",
    "def CV_ISI(model_name , params , duration):\n",
    "    isi_values = get_ISI(model_name , params , duration)\n",
    "    return np.std(isi_values) / np.mean(isi_values)"
   ]
  },
  {
   "cell_type": "code",
   "execution_count": 43,
   "metadata": {},
   "outputs": [
    {
     "data": {
      "text/plain": [
       "(array([60.,  9.,  7., 10., 10., 11.,  6.,  2.,  0.,  2.]),\n",
       " array([0.        , 0.06901159, 0.13802317, 0.20703476, 0.27604634,\n",
       "        0.34505793, 0.41406951, 0.4830811 , 0.55209268, 0.62110427,\n",
       "        0.69011585]),\n",
       " <BarContainer object of 10 artists>)"
      ]
     },
     "execution_count": 43,
     "metadata": {},
     "output_type": "execute_result"
    },
    {
     "data": {
      "image/png": "[encoded data removed]",
      "text/plain": [
       "<Figure size 800x550 with 1 Axes>"
      ]
     },
     "metadata": {},
     "output_type": "display_data"
    }
   ],
   "source": [
    "params = {\n",
    "        \"v_reset\" : -65,\n",
    "        \"v_rest\": -70,\n",
    "        \"tau\" : 8 ,\n",
    "        \"R\" : 5 ,\n",
    "        \"threshold\" : -55,\n",
    "        \"dt\" : 1\n",
    "    }\n",
    "\n",
    "I_mean = [18 , 21 , 25 , 30 , 33 , 35  , 40 , 42 , 45 , 50 , 53 , 56 , 60]\n",
    "I_std = [1 , 2 , 4 , 5 , 7 , 10 , 12 , 15 , 18]\n",
    "duration = 100\n",
    "isi = []\n",
    "for curr_mean in I_mean:\n",
    "    for curr_std in I_std:\n",
    "        I = generateNormalI(curr_mean , curr_std , duration)\n",
    "        params[\"I_t\"] = I\n",
    "        isi.append(CV_ISI(\"LIF\" , params , duration))\n",
    "\n",
    "plt.hist(isi)\n"
   ]
  }
 ],
 "metadata": {
  "kernelspec": {
   "display_name": "base",
   "language": "python",
   "name": "python3"
  },
  "language_info": {
   "codemirror_mode": {
    "name": "ipython",
    "version": 3
   },
   "file_extension": ".py",
   "mimetype": "text/x-python",
   "name": "python",
   "nbconvert_exporter": "python",
   "pygments_lexer": "ipython3",
   "version": "3.10.9"
  },
  "vscode": {
   "interpreter": {
    "hash": "cedc47555d242208aef148e498cec24d13885735a811571bb49077bb2c433071"
   }
  }
 },
 "nbformat": 4,
 "nbformat_minor": 4
}
